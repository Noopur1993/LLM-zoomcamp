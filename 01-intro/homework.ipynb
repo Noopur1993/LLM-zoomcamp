{
 "cells": [
  {
   "cell_type": "code",
   "execution_count": 1,
   "id": "a5ff552b-8358-4593-a09a-15627db41dc4",
   "metadata": {},
   "outputs": [],
   "source": [
    "import openai"
   ]
  },
  {
   "cell_type": "code",
   "execution_count": 2,
   "id": "d721e4e6-5727-453b-aae0-25651228db5f",
   "metadata": {},
   "outputs": [],
   "source": [
    "from openai import OpenAI"
   ]
  },
  {
   "cell_type": "code",
   "execution_count": 4,
   "id": "ce3ed98e-00a2-4904-bbd0-7d098a26bd24",
   "metadata": {},
   "outputs": [],
   "source": [
    "import os"
   ]
  },
  {
   "cell_type": "code",
   "execution_count": 9,
   "id": "9097fd0a-c7a0-42ea-a028-6d7e651f1c44",
   "metadata": {},
   "outputs": [],
   "source": [
    "api_key=os.getenv('OPEN_API_KEY')"
   ]
  },
  {
   "cell_type": "code",
   "execution_count": 11,
   "id": "2896c52c-c6b1-4aa6-8957-e81273aaced1",
   "metadata": {},
   "outputs": [],
   "source": [
    "client=OpenAI(api_key=api_key)"
   ]
  },
  {
   "cell_type": "code",
   "execution_count": 16,
   "id": "abbe2b8e-849d-4afd-8480-d82e4590ef4b",
   "metadata": {},
   "outputs": [],
   "source": [
    "response=client.chat.completions.create(model='gpt-4o',\n",
    "                             messages=[{'role':'user','content':'it is too late to join the course'}])"
   ]
  },
  {
   "cell_type": "code",
   "execution_count": 24,
   "id": "8c7ba38d-029a-4ec7-b0a6-43aa0f26c4dc",
   "metadata": {},
   "outputs": [
    {
     "data": {
      "text/plain": [
       "'If you’re concerned about joining a course after it has started, there are a few steps you can consider:\\n\\n1. **Contact the Instructor or Institution**: Reach out to the course instructor or the administration. They may allow late enrollments, especially if you explain your situation and show enthusiasm for the course.\\n\\n2. **Review Course Materials**: Ask if there are recordings of the previous classes or access to any materials or notes you can use to catch up.\\n\\n3. **Check for Prerequisites**: Ensure that you meet any prerequisites for the course to handle the content effectively.\\n\\n4. **Self-Study**: Use available resources such as textbooks, online resources, or tutorials related to the course topic to get up to speed.\\n\\n5. **Peer Support**: Connect with classmates for assistance. They can help fill you in on what you missed and possibly provide notes.\\n\\n6. **Time Management**: Plan your schedule to allocate extra time to catch up on what has been missed.\\n\\n7. **Future Enrollment**: If joining late isn’t possible, ask if the course will be offered again and consider enrolling next time.\\n\\nRemember, while joining late can be challenging, with determination and organized effort, you can catch up and succeed.'"
      ]
     },
     "execution_count": 24,
     "metadata": {},
     "output_type": "execute_result"
    }
   ],
   "source": [
    "response.choices[0].message.content"
   ]
  }
 ],
 "metadata": {
  "kernelspec": {
   "display_name": "Python 3 (ipykernel)",
   "language": "python",
   "name": "python3"
  },
  "language_info": {
   "codemirror_mode": {
    "name": "ipython",
    "version": 3
   },
   "file_extension": ".py",
   "mimetype": "text/x-python",
   "name": "python",
   "nbconvert_exporter": "python",
   "pygments_lexer": "ipython3",
   "version": "3.12.1"
  }
 },
 "nbformat": 4,
 "nbformat_minor": 5
}
